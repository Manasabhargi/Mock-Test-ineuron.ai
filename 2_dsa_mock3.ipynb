{
 "cells": [
  {
   "cell_type": "markdown",
   "id": "e19fd7ff",
   "metadata": {},
   "source": [
    "# DSA Mock Test3"
   ]
  },
  {
   "cell_type": "markdown",
   "id": "32e19f4a",
   "metadata": {},
   "source": [
    "**Implement a queue using a list in Python. Include the necessary methods such as enqueue, dequeue, and isEmpty.**"
   ]
  },
  {
   "cell_type": "code",
   "execution_count": 1,
   "id": "23a46328",
   "metadata": {},
   "outputs": [
    {
     "name": "stdout",
     "output_type": "stream",
     "text": [
      "Initial queue\n",
      "['a', 'b', 'c']\n",
      "\n",
      "Elements dequeued from queue\n",
      "a\n",
      "b\n",
      "c\n",
      "\n",
      "Queue after removing elements\n",
      "[]\n"
     ]
    }
   ],
   "source": [
    "# Python program to\n",
    "# demonstrate queue implementation\n",
    "# using list\n",
    "\n",
    "# Initializing a queue\n",
    "queue = []\n",
    "\n",
    "# Adding elements to the queue\n",
    "queue.append('a')\n",
    "queue.append('b')\n",
    "queue.append('c')\n",
    "\n",
    "print(\"Initial queue\")\n",
    "print(queue)\n",
    "\n",
    "# Removing elements from the queue\n",
    "print(\"\\nElements dequeued from queue\")\n",
    "print(queue.pop(0))\n",
    "print(queue.pop(0))\n",
    "print(queue.pop(0))\n",
    "\n",
    "print(\"\\nQueue after removing elements\")\n",
    "print(queue)\n",
    "\n",
    "# Uncommenting print(queue.pop(0))\n",
    "# will raise and IndexError\n",
    "# as the queue is now empty\n"
   ]
  }
 ],
 "metadata": {
  "kernelspec": {
   "display_name": "Python 3 (ipykernel)",
   "language": "python",
   "name": "python3"
  },
  "language_info": {
   "codemirror_mode": {
    "name": "ipython",
    "version": 3
   },
   "file_extension": ".py",
   "mimetype": "text/x-python",
   "name": "python",
   "nbconvert_exporter": "python",
   "pygments_lexer": "ipython3",
   "version": "3.9.12"
  }
 },
 "nbformat": 4,
 "nbformat_minor": 5
}
