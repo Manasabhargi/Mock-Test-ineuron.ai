{
 "cells": [
  {
   "cell_type": "markdown",
   "id": "eb22ac41",
   "metadata": {},
   "source": [
    "# DSA Mock Test - 2"
   ]
  },
  {
   "cell_type": "markdown",
   "id": "5e410895",
   "metadata": {},
   "source": [
    "**Question-1 : Given a non-negative integer x, return the square root of x rounded down to the nearest integer. The returned integer should be non-negative as well. You must not use any built-in exponent function or operator**"
   ]
  },
  {
   "cell_type": "code",
   "execution_count": 1,
   "id": "dd8c4e12",
   "metadata": {},
   "outputs": [
    {
     "data": {
      "text/plain": [
       "3"
      ]
     },
     "execution_count": 1,
     "metadata": {},
     "output_type": "execute_result"
    }
   ],
   "source": [
    "class Solution:\n",
    "    def mySqrt(self, x: int) -> int:\n",
    "        left,right=1,x\n",
    "        while left<=right:\n",
    "            mid=(left+right)//2\n",
    "            if mid*mid==x:\n",
    "                return mid\n",
    "            if mid*mid>x:\n",
    "                right=mid-1\n",
    "            else:\n",
    "                left=mid+1\n",
    "        return right\n",
    "\n",
    "r = Solution()\n",
    "r.mySqrt(9)"
   ]
  },
  {
   "cell_type": "code",
   "execution_count": null,
   "id": "9591d4e2",
   "metadata": {},
   "outputs": [],
   "source": []
  }
 ],
 "metadata": {
  "kernelspec": {
   "display_name": "Python 3 (ipykernel)",
   "language": "python",
   "name": "python3"
  },
  "language_info": {
   "codemirror_mode": {
    "name": "ipython",
    "version": 3
   },
   "file_extension": ".py",
   "mimetype": "text/x-python",
   "name": "python",
   "nbconvert_exporter": "python",
   "pygments_lexer": "ipython3",
   "version": "3.9.12"
  }
 },
 "nbformat": 4,
 "nbformat_minor": 5
}
